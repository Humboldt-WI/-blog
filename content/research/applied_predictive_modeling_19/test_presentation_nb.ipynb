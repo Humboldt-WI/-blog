{
 "cells": [
  {
   "cell_type": "markdown",
   "metadata": {},
   "source": [
    "# Data Generating Process Simulation"
   ]
  },
  {
   "cell_type": "markdown",
   "metadata": {
    "toc": true
   },
   "source": [
    "<h1>Table of Contents<span class=\"tocSkip\"></span></h1>\n",
    "<div class=\"toc\"><ul class=\"toc-item\"><li><span><a href=\"#Data-Generating-Process-Simulation\" data-toc-modified-id=\"Data-Generating-Process-Simulation-1\"><span class=\"toc-item-num\">1&nbsp;&nbsp;</span>Data Generating Process Simulation</a></span><ul class=\"toc-item\"><li><span><a href=\"#Introduction\" data-toc-modified-id=\"Introduction-1.1\"><span class=\"toc-item-num\">1.1&nbsp;&nbsp;</span>Introduction</a></span></li><li><span><a href=\"#Literature\" data-toc-modified-id=\"Literature-1.2\"><span class=\"toc-item-num\">1.2&nbsp;&nbsp;</span>Literature</a></span></li><li><span><a href=\"#Package-Content\" data-toc-modified-id=\"Package-Content-1.3\"><span class=\"toc-item-num\">1.3&nbsp;&nbsp;</span>Package Content</a></span><ul class=\"toc-item\"><li><span><a href=\"#Covariates-generation\" data-toc-modified-id=\"Covariates-generation-1.3.1\"><span class=\"toc-item-num\">1.3.1&nbsp;&nbsp;</span>Covariates generation</a></span><ul class=\"toc-item\"><li><span><a href=\"#Continuous-covariates\" data-toc-modified-id=\"Continuous-covariates-1.3.1.1\"><span class=\"toc-item-num\">1.3.1.1&nbsp;&nbsp;</span>Continuous covariates</a></span></li><li><span><a href=\"#Binary-and-categorical-covariates\" data-toc-modified-id=\"Binary-and-categorical-covariates-1.3.1.2\"><span class=\"toc-item-num\">1.3.1.2&nbsp;&nbsp;</span>Binary and categorical covariates</a></span></li></ul></li></ul></li><li><span><a href=\"#Treatment-Assignment\" data-toc-modified-id=\"Treatment-Assignment-1.4\"><span class=\"toc-item-num\">1.4&nbsp;&nbsp;</span>Treatment Assignment</a></span></li><li><span><a href=\"#Treatment-effect\" data-toc-modified-id=\"Treatment-effect-1.5\"><span class=\"toc-item-num\">1.5&nbsp;&nbsp;</span>Treatment effect</a></span></li><li><span><a href=\"#Composition-of-dependent-variable\" data-toc-modified-id=\"Composition-of-dependent-variable-1.6\"><span class=\"toc-item-num\">1.6&nbsp;&nbsp;</span>Composition of dependent variable</a></span></li><li><span><a href=\"#Application-of-module/package\" data-toc-modified-id=\"Application-of-module/package-1.7\"><span class=\"toc-item-num\">1.7&nbsp;&nbsp;</span>Application of module/package</a></span></li><li><span><a href=\"#Distribution-of-propensity-scores-according-to-treatment-assignment\" data-toc-modified-id=\"Distribution-of-propensity-scores-according-to-treatment-assignment-1.8\"><span class=\"toc-item-num\">1.8&nbsp;&nbsp;</span>Distribution of propensity scores according to treatment assignment</a></span></li><li><span><a href=\"#Treatment-effect-options\" data-toc-modified-id=\"Treatment-effect-options-1.9\"><span class=\"toc-item-num\">1.9&nbsp;&nbsp;</span>Treatment effect options</a></span></li><li><span><a href=\"#Customized-treatment-distribution\" data-toc-modified-id=\"Customized-treatment-distribution-1.10\"><span class=\"toc-item-num\">1.10&nbsp;&nbsp;</span>Customized treatment distribution</a></span></li><li><span><a href=\"#Outputs-depending-on-treatment-assignment\" data-toc-modified-id=\"Outputs-depending-on-treatment-assignment-1.11\"><span class=\"toc-item-num\">1.11&nbsp;&nbsp;</span>Outputs depending on treatment assignment</a></span></li><li><span><a href=\"#Average-Treatment-Effect\" data-toc-modified-id=\"Average-Treatment-Effect-1.12\"><span class=\"toc-item-num\">1.12&nbsp;&nbsp;</span>Average Treatment Effect</a></span></li></ul></li></ul></div>"
   ]
  },
  {
   "cell_type": "raw",
   "metadata": {},
   "source": [
    "+++\n",
    "title = \"Data Generating Process Simulation: The opossum package\"\n",
    "date = '2019-07-24'\n",
    "tags = [ \"Causal Inference\", \"Class19\", \"Data Simulation\"]\n",
    "categories = [\"Course projects\"]\n",
    "banner = \"img/seminar/data_generating_process/opossum.jpg\"\n",
    "author = \"Julian Winkel, Tobias Krebs\"\n",
    "disqusShortname = \"https-humbodt-wi-github-io-blog\"\n",
    "description = \"Generating datasets with observed treatment effects for model evaluation\"\n",
    "+++\n",
    "\n"
   ]
  },
  {
   "cell_type": "markdown",
   "metadata": {
    "slideshow": {
     "slide_type": "slide"
    }
   },
   "source": [
    "## Introduction\n",
    "\n",
    "## Literature\n",
    "\n",
    "## Package Content\n",
    "\n",
    "In the following sections you will find a step by step explanation of how our data simulation package works internally, accompanied by the corresponding formulas, code snippets and explanatory graphs.\n",
    "\n",
    "### Covariates generation\n",
    "\n",
    "#### Continuous covariates\n",
    "\n",
    "The covariate matrix **X** in our simulation is drawn from a multivariate normal distribution with an expected value of 0 and a specified covariance matrix Sigma. Sigma is constructed the following way. First, values for Matrix A are drawn from a uniform distribution. In a second step, to make sure that there exist negative correlations and that not all variables are highly correlated with each other, we create an overlay matrix B. This overlay matrix B consists of values 1 and -1. Third, we multiply the two matrices element-wise and adjust the result with a correction term to assure that values in Sigma are not increasing in k. This result is represented by the matrix $\\Lambda$. In a final step, we calculate Sigma by multiplying $\\Lambda$ with its transposed to assure that it is positive definite. \n",
    "\n",
    "<br>\n",
    "\n",
    "$$ X_{n*k} \\sim N_k(0,\\Sigma)$$\n",
    "\n",
    "Where, \n",
    "\n",
    "$n = Number \\; of \\; Observations, \\quad k =  Number \\; of \\; Covariates$\n",
    "\n",
    "$\\Sigma = \\Lambda*\\Lambda^T, \\quad \\Lambda = \\frac{10}{k} (A \\circ B), \\quad A \\sim U(0,1), \\quad B \\sim Ber(0.5)\\;,B \\in \\{-1,1\\}$\n",
    "\n",
    "$Matrices \\; A, \\; B, \\; and \\; \\Lambda \\; are \\; all \\; of \\; dimension \\; k*k$\n",
    "\n",
    "<br>\n",
    "\n",
    "<script src=\"https://gist.github.com/Tobias-K93/f550c942f3ceea379271c9d89913fac7.js\"></script>\n",
    "\n",
    "The following heat-map shows an example of Sigma with k=10 covariates. Depending on the chosen random seed, typically correlations range between -0.7 and 0.7 with slightly varying minimum and maximum values.\n",
    "\n",
    "<img align=\"center\" width=\"660\" height=\"500\" style=\"display:block;margin:0 auto;\" src=\"/blog/img/seminar/data_generating_process/covariates_correlation.png\">\n",
    "\n",
    "#### Binary and categorical covariates\n",
    "Binary and categorical covariates are created from the continuous covariates in X. \n",
    "\n",
    "$$ probability_{binary} = \\textrm{min-max-standardize}(X) $$\n",
    "\n",
    "$$X_{binary} = Ber(probability_{binary})$$"
   ]
  },
  {
   "cell_type": "markdown",
   "metadata": {
    "slideshow": {
     "slide_type": "slide"
    }
   },
   "source": [
    "##\n",
    "\n",
    "<br/>\n",
    "\n",
    "$$ \\begin{align} Y = \\theta_0  D + g_0(X)+ U,  &&  & E[U|X,D]  \\\\ \n",
    "   D = m_0(X) + V, &&   &  E[V|X] = 0 \\\\\n",
    "  \\theta_0 =  t_0(Z) + W, && & E[W|Z] = 0, Z \\subseteq X  \\\\\n",
    "   \\end{align}$$\n",
    "\n",
    "$$ Y = \\theta_0  D + g_0(X)+ U, \\quad E[U|X,D] = 0 $$ \n",
    "<br/>\n",
    "$$  D = m_0(X) + V, E[V|X] = 0 $$\n",
    "<br/>\n",
    "$$ \\theta_0 =  t_0(Z) + W, E[W|Z] = 0, Z \\subseteq X  $$\n",
    "\n",
    "\n",
    "Y - Outcome Variable\n",
    "\n",
    "$\\theta_0$ - True treatment effect \n",
    "\n",
    "D - Treatment Dummy\n",
    "\n",
    "$X_{n*k}$ - Covariates"
   ]
  },
  {
   "cell_type": "markdown",
   "metadata": {
    "slideshow": {
     "slide_type": "slide"
    }
   },
   "source": [
    "\n",
    "## Treatment Assignment\n",
    "##### Random\n",
    "Choose probability $m_0$\n",
    "\n",
    "##### Conditioned covariates \n",
    "Weight vector  $ b_{k*1} \\stackrel{ind.}{\\sim} U(0,1), \\qquad a_{n*1} = X_{n*k} * b_{k*1} $\n",
    "\n",
    "$$m_0(X) = \\Phi\\left(\\frac{a-\\hat{\\mu}(a)}{\\hat{\\sigma}(a)}\\right) $$\n",
    "\n",
    "##### Create assignment vector\n",
    "$D \\stackrel{ind.}{\\sim} Bernoulli(m_0)$\n"
   ]
  },
  {
   "cell_type": "markdown",
   "metadata": {
    "slideshow": {
     "slide_type": "slide"
    }
   },
   "source": [
    "## Treatment effect\n",
    "\n",
    "###### Option 1: Constant\n",
    "$\\theta_0 = c$\n",
    "\n",
    "###### Option 2: Continuous heterogeneous effect\n",
    "\n",
    "$Z \\subseteq X,\\quad Weight vector \\quad b_{k*1} \\stackrel{ind.}{\\sim} U(0,1), \\quad W \\stackrel{ind.}{\\sim} N(0,1)$\n",
    "\n",
    "$$\\gamma =  sin(Z * b)^2 + W$$\n",
    "\n",
    "\n",
    "$$\\theta_0 = \\frac{\\gamma - min(\\gamma)}{max(\\gamma) - min(\\gamma)}(0.3 - 0.1)$$\n",
    "\n",
    "###### Option 3: Negative \n",
    "\n",
    "$\\theta_0 \\stackrel{ind.}{\\sim} U(-0.3,0)$\n",
    "\n",
    "###### Option 4: No treatment effect\n",
    "\n",
    "$\\theta_0 = 0$\n"
   ]
  },
  {
   "cell_type": "markdown",
   "metadata": {
    "slideshow": {
     "slide_type": "slide"
    }
   },
   "source": [
    "## Composition of dependent variable \n",
    "\n",
    "###### Non-linearity: \n",
    "$$g(X) = sin(X*b)^2 + U$$\n",
    "\n",
    "###### Option 1: Continuous \n",
    "$$Y_i  = \\theta_{0,i}  D_i + g_0(X_i)+ U_i$$\n",
    "\n",
    "###### Option 2: Binary\n",
    "$$p_i = \\frac{Y_i - min(Y_i)}{max(Y_i) - min(Y_i)}(0.9 - 0.1)$$\n",
    "\n",
    "<br/>\n",
    "\n",
    "$$\\theta_0 \\stackrel{ind.}{\\sim} Bernoulli(p_i)$$"
   ]
  },
  {
   "cell_type": "markdown",
   "metadata": {
    "slideshow": {
     "slide_type": "slide"
    }
   },
   "source": [
    "## Application of module/package "
   ]
  },
  {
   "cell_type": "code",
   "execution_count": 1,
   "metadata": {
    "slideshow": {
     "slide_type": "notes"
    }
   },
   "outputs": [],
   "source": [
    "# For next print statement\n",
    "import numpy as np"
   ]
  },
  {
   "cell_type": "code",
   "execution_count": 18,
   "metadata": {
    "slideshow": {
     "slide_type": "-"
    }
   },
   "outputs": [
    {
     "name": "stdout",
     "output_type": "stream",
     "text": [
      "Shapes y, X, assignment, treatment: [(10000,), (10000, 10), (10000,), (10000,)]\n"
     ]
    }
   ],
   "source": [
    "from SimulateData import UserInterface\n",
    "\n",
    "u = UserInterface(N = 10000,k = 10, seed = 12) \n",
    "\n",
    "u.generate_treatment(random_assignment = True, \n",
    "                    assignment_prob = 0.5, \n",
    "                    constant = True, \n",
    "                    heterogeneous = False,\n",
    "                    negative = False, \n",
    "                    no_treatment = False, \n",
    "                    treatment_option_weights = [0, 0.7, 0.1, 0.2]) \n",
    "  # default: None, [constant, heterogeneous, negative, no effect]\n",
    "\n",
    "y, X, assignment_vector, treatment_effect = u.output_data(binary=False)\n",
    "\n",
    "print('Shapes y, X, assignment, treatment: ' + str([np.shape(variable) for variable in [y, X, assignment_vector, treatment_effect]]))\n",
    "      \n"
   ]
  },
  {
   "cell_type": "code",
   "execution_count": 4,
   "metadata": {
    "slideshow": {
     "slide_type": "notes"
    }
   },
   "outputs": [],
   "source": [
    "    from plot_functions import propensity_score_plt, all_treatment_effect_plt, single_treatment_effect_plt, output_difference_plt, avg_treatment_effect_plt \n",
    "\n",
    "    \n",
    "    u = UserInterface(10000,10, seed=5)\n",
    "    u.generate_treatment(random_assignment=False, treatment_option_weights = [1, 0, 0, 0])\n",
    "    y, X, assignment, treatment = u.output_data()\n",
    "    \n",
    "    prop_score_conditioned = u.s.propensity_score\n",
    "\n",
    "    \n",
    "    u = UserInterface(10000,10, seed=5)\n",
    "    u.generate_treatment(random_assignment=True, assignment_prob = 0.5,  treatment_option_weights = [1, 0, 0, 0])\n",
    "    y, X, assignment, treatment = u.output_data()\n",
    "    \n",
    "    prop_score_random = u.s.propensity_score"
   ]
  },
  {
   "cell_type": "markdown",
   "metadata": {
    "slideshow": {
     "slide_type": "slide"
    }
   },
   "source": [
    "## Distribution of propensity scores according to treatment assignment"
   ]
  },
  {
   "cell_type": "code",
   "execution_count": 7,
   "metadata": {
    "slideshow": {
     "slide_type": "notes"
    }
   },
   "outputs": [],
   "source": [
    "import numpy as np\n",
    "##### treatment effects plots\n",
    "\n",
    "### Each option alone \n",
    "treatment_list = []\n",
    "assignment_list = []\n",
    "\n",
    "for i in range(4):\n",
    "    treatment_option_weights = np.zeros(4)\n",
    "    treatment_option_weights[i] = 1\n",
    "    \n",
    "    u = UserInterface(10000,10, seed=123)\n",
    "    u.generate_treatment(random_assignment=True, treatment_option_weights = treatment_option_weights)\n",
    "    y, X, assignment, treatment = u.output_data(binary=False)\n",
    "    \n",
    "    treatment_list.append(treatment)\n",
    "    assignment_list.append(assignment)"
   ]
  },
  {
   "cell_type": "markdown",
   "metadata": {
    "slideshow": {
     "slide_type": "slide"
    }
   },
   "source": [
    "## Treatment effect options "
   ]
  },
  {
   "cell_type": "code",
   "execution_count": 9,
   "metadata": {
    "slideshow": {
     "slide_type": "notes"
    }
   },
   "outputs": [],
   "source": [
    "##### Realistic case of treatment options\n",
    "\n",
    "u = UserInterface(10000,10, seed=23)\n",
    "u.generate_treatment(treatment_option_weights = [0, 0.7, 0.1, 0.2])\n",
    "y, X, assignment, treatment = u.output_data(binary=False)"
   ]
  },
  {
   "cell_type": "markdown",
   "metadata": {
    "slideshow": {
     "slide_type": "subslide"
    }
   },
   "source": [
    "## Customized treatment distribution"
   ]
  },
  {
   "cell_type": "markdown",
   "metadata": {
    "slideshow": {
     "slide_type": "slide"
    }
   },
   "source": [
    "## Outputs depending on treatment assignment "
   ]
  },
  {
   "cell_type": "code",
   "execution_count": 11,
   "metadata": {
    "slideshow": {
     "slide_type": "notes"
    }
   },
   "outputs": [],
   "source": [
    "##### Output differences treated/not_treated plots\n",
    "\n",
    "### continous \n",
    "u = UserInterface(10000,10, seed=7)\n",
    "u.generate_treatment(random_assignment=True, treatment_option_weights = [0, 1, 0, 0])\n",
    "y, X, assignment, treatment = u.output_data(False)\n",
    "\n",
    "y_treated = y[assignment==1]\n",
    "y_not_treated = y[assignment==0]"
   ]
  },
  {
   "cell_type": "code",
   "execution_count": 13,
   "metadata": {
    "slideshow": {
     "slide_type": "notes"
    }
   },
   "outputs": [],
   "source": [
    "### binary\n",
    "u = UserInterface(10000,10, seed=15)\n",
    "u.generate_treatment(random_assignment=True, treatment_option_weights = [0, 1, 0, 0])\n",
    "y, X, assignment, treatment = u.output_data(True)\n",
    "\n",
    "y_treated = y[assignment==1]\n",
    "y_not_treated = y[assignment==0]"
   ]
  },
  {
   "cell_type": "markdown",
   "metadata": {
    "slideshow": {
     "slide_type": "slide"
    }
   },
   "source": [
    "## Average Treatment Effect "
   ]
  }
 ],
 "metadata": {
  "celltoolbar": "Slideshow",
  "kernelspec": {
   "display_name": "Python 3",
   "language": "python",
   "name": "python3"
  },
  "language_info": {
   "codemirror_mode": {
    "name": "ipython",
    "version": 3
   },
   "file_extension": ".py",
   "mimetype": "text/x-python",
   "name": "python",
   "nbconvert_exporter": "python",
   "pygments_lexer": "ipython3",
   "version": "3.7.3"
  },
  "toc": {
   "base_numbering": 1,
   "nav_menu": {},
   "number_sections": true,
   "sideBar": true,
   "skip_h1_title": false,
   "title_cell": "Table of Contents",
   "title_sidebar": "Contents",
   "toc_cell": true,
   "toc_position": {},
   "toc_section_display": true,
   "toc_window_display": false
  }
 },
 "nbformat": 4,
 "nbformat_minor": 2
}
